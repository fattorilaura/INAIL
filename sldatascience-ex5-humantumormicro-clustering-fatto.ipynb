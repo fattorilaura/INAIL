{
 "cells": [
  {
   "cell_type": "markdown",
   "id": "3d0ed0fe",
   "metadata": {
    "papermill": {
     "duration": 0.004623,
     "end_time": "2023-05-25T07:48:54.554369",
     "exception": false,
     "start_time": "2023-05-25T07:48:54.549746",
     "status": "completed"
    },
    "tags": []
   },
   "source": [
    "# **Statistical Learning – Data science - 2022/23 – Exercise 6 – 18/05/2023**"
   ]
  },
  {
   "cell_type": "markdown",
   "id": "af1818a3",
   "metadata": {
    "papermill": {
     "duration": 0.004054,
     "end_time": "2023-05-25T07:48:54.562936",
     "exception": false,
     "start_time": "2023-05-25T07:48:54.558882",
     "status": "completed"
    },
    "tags": []
   },
   "source": [
    "\n",
    "**Excersice 6: Analysis of Human Tumor Microarray dataset – unsupervised learning, clustering with k-means** \\\n",
    "Please, execute the following tasks and provide answers to the proposed questions.\n",
    "\n",
    "1. Download the “14-cancer microarray data” from the book website https://web.stanford.edu/~hastie/ElemStatLearn/\n",
    "Get information about the dataset in file 14cancer.info and in Chapter 1 (page 5) and\n",
    "Chapter 14 (page 512) of the book (Hastie et al., 2009)\n",
    "2. Generate a new Kernel SLDatascience_EX5_HumanTumorMicro_Clustering_Surname in Kaggle\n",
    "3. Load the data in Kaggle \\\n",
    "• Use, for instance, the training set gene expression data \\\n",
    "• Load also the labels\n",
    "4. Use the sklearn.cluster module to perform clustering analysis on the dataset. In particular,\n",
    "repeat the analysis proposed in section 14.3.8 of the book (Hastie et al., 2009)\\\n",
    "• Preprocess data, if needed (e.g., if there are missing values then remove the related columns\n",
    "and rows)\\\n",
    "• Start using K-means and then test some other clustering algorithms at your choice\\\n",
    "• Cluster the samples (i.e., columns). Each sample has a label (tumor type)\\\n",
    "• Do not use the labels in the learning phase but examine them posthoc to interpret the clusters\\\n",
    "• Run k-means with K from 2 to 10 and compare the clusterings in terms of within-sum of\\\n",
    "squares\n",
    "• Show the chart of the performance depending on K\\\n",
    "• Select some K and analyze the clusters producing tables such as those displayed in the book\\"
   ]
  },
  {
   "cell_type": "markdown",
   "id": "3c2e6b98",
   "metadata": {
    "execution": {
     "iopub.execute_input": "2023-05-22T19:54:07.874092Z",
     "iopub.status.busy": "2023-05-22T19:54:07.873655Z",
     "iopub.status.idle": "2023-05-22T19:54:07.88455Z",
     "shell.execute_reply": "2023-05-22T19:54:07.882987Z",
     "shell.execute_reply.started": "2023-05-22T19:54:07.87406Z"
    },
    "papermill": {
     "duration": 0.003626,
     "end_time": "2023-05-25T07:48:54.570618",
     "exception": false,
     "start_time": "2023-05-25T07:48:54.566992",
     "status": "completed"
    },
    "tags": []
   },
   "source": [
    "**Information about the dataset in file 14cancer.info**:\\\n",
    "A gene expression dataset collects together the expression values from a series of DNA microarray experiments, with each column representing an experiment. \n",
    "\n",
    "14-cancer gene expression data including: 16,063 genes, 144 training samples, 54 test samples. \n",
    "One gene per row, one sample per column\n",
    "Cancer classes are labelled as follows:\n",
    "1.  breast\n",
    "2.  prostate\n",
    "3.  lung\n",
    "4.  collerectal\n",
    "5.  lymphoma\n",
    "6.  bladder\n",
    "7.  melanoma\n",
    "8.  uterus\n",
    "9.  leukemia\n",
    "10. renal\n",
    "11. pancreas\n",
    "12. ovary\n",
    "13. meso\n",
    "14. cns\n",
    "\n"
   ]
  },
  {
   "cell_type": "code",
   "execution_count": 1,
   "id": "e72cad96",
   "metadata": {
    "_cell_guid": "b1076dfc-b9ad-4769-8c92-a6c4dae69d19",
    "_uuid": "8f2839f25d086af736a60e9eeb907d3b93b6e0e5",
    "execution": {
     "iopub.execute_input": "2023-05-25T07:48:54.580571Z",
     "iopub.status.busy": "2023-05-25T07:48:54.580060Z",
     "iopub.status.idle": "2023-05-25T07:48:54.606486Z",
     "shell.execute_reply": "2023-05-25T07:48:54.605258Z"
    },
    "papermill": {
     "duration": 0.034759,
     "end_time": "2023-05-25T07:48:54.609288",
     "exception": false,
     "start_time": "2023-05-25T07:48:54.574529",
     "status": "completed"
    },
    "tags": []
   },
   "outputs": [
    {
     "name": "stdout",
     "output_type": "stream",
     "text": [
      "/kaggle/input/14cancermicroarraydata/14cancer_y.ytrain\n",
      "/kaggle/input/14cancermicroarraydata/14cancer.info\n",
      "/kaggle/input/14cancermicroarraydata/14cancer_x.xtrain\n"
     ]
    }
   ],
   "source": [
    "# This Python 3 environment comes with many helpful analytics libraries installed\n",
    "# It is defined by the kaggle/python Docker image: https://github.com/kaggle/docker-python\n",
    "# For example, here's several helpful packages to load\n",
    "\n",
    "import numpy as np # linear algebra\n",
    "import pandas as pd # data processing, CSV file I/O (e.g. pd.read_csv)\n",
    "\n",
    "# Input data files are available in the read-only \"../input/\" directory\n",
    "# For example, running this (by clicking run or pressing Shift+Enter) will list all files under the input directory\n",
    "\n",
    "import os\n",
    "for dirname, _, filenames in os.walk('/kaggle/input'):\n",
    "    for filename in filenames:\n",
    "        print(os.path.join(dirname, filename))\n",
    "\n",
    "# You can write up to 20GB to the current directory (/kaggle/working/) that gets preserved as output when you create a version using \"Save & Run All\" \n",
    "# You can also write temporary files to /kaggle/temp/, but they won't be saved outside of the current session"
   ]
  },
  {
   "cell_type": "markdown",
   "id": "1f0c63e3",
   "metadata": {
    "papermill": {
     "duration": 0.00388,
     "end_time": "2023-05-25T07:48:54.617561",
     "exception": false,
     "start_time": "2023-05-25T07:48:54.613681",
     "status": "completed"
    },
    "tags": []
   },
   "source": [
    " ## Part 1: Exploring and preparing data <a class=\"anchor\"  id=\"section2\"></a>"
   ]
  },
  {
   "cell_type": "code",
   "execution_count": 2,
   "id": "aeca8a02",
   "metadata": {
    "execution": {
     "iopub.execute_input": "2023-05-25T07:48:54.627629Z",
     "iopub.status.busy": "2023-05-25T07:48:54.627215Z",
     "iopub.status.idle": "2023-05-25T07:48:55.389520Z",
     "shell.execute_reply": "2023-05-25T07:48:55.388510Z"
    },
    "papermill": {
     "duration": 0.7707,
     "end_time": "2023-05-25T07:48:55.392310",
     "exception": false,
     "start_time": "2023-05-25T07:48:54.621610",
     "status": "completed"
    },
    "tags": []
   },
   "outputs": [],
   "source": [
    "# Reading the training dataset\n",
    "x_train = pd.read_csv('/kaggle/input/14cancermicroarraydata/14cancer_x.xtrain',header=None,delim_whitespace= True)\n",
    "y_train = pd.read_csv('/kaggle/input/14cancermicroarraydata/14cancer_y.ytrain',header=None,delim_whitespace= True)"
   ]
  },
  {
   "cell_type": "code",
   "execution_count": 3,
   "id": "b8081baf",
   "metadata": {
    "execution": {
     "iopub.execute_input": "2023-05-25T07:48:55.405119Z",
     "iopub.status.busy": "2023-05-25T07:48:55.404365Z",
     "iopub.status.idle": "2023-05-25T07:48:55.440501Z",
     "shell.execute_reply": "2023-05-25T07:48:55.438969Z"
    },
    "papermill": {
     "duration": 0.044947,
     "end_time": "2023-05-25T07:48:55.443052",
     "exception": false,
     "start_time": "2023-05-25T07:48:55.398105",
     "status": "completed"
    },
    "tags": []
   },
   "outputs": [
    {
     "name": "stdout",
     "output_type": "stream",
     "text": [
      "<class 'pandas.core.frame.DataFrame'>\n",
      "RangeIndex: 16063 entries, 0 to 16062\n",
      "Columns: 144 entries, 0 to 143\n",
      "dtypes: float64(1), int64(143)\n",
      "memory usage: 17.6 MB\n"
     ]
    }
   ],
   "source": [
    "#Dataset overview \n",
    "x_train.info()"
   ]
  },
  {
   "cell_type": "code",
   "execution_count": 4,
   "id": "1d391bf1",
   "metadata": {
    "execution": {
     "iopub.execute_input": "2023-05-25T07:48:55.454413Z",
     "iopub.status.busy": "2023-05-25T07:48:55.453872Z",
     "iopub.status.idle": "2023-05-25T07:48:55.506833Z",
     "shell.execute_reply": "2023-05-25T07:48:55.505370Z"
    },
    "papermill": {
     "duration": 0.062862,
     "end_time": "2023-05-25T07:48:55.510557",
     "exception": false,
     "start_time": "2023-05-25T07:48:55.447695",
     "status": "completed"
    },
    "tags": []
   },
   "outputs": [
    {
     "data": {
      "text/html": [
       "<div>\n",
       "<style scoped>\n",
       "    .dataframe tbody tr th:only-of-type {\n",
       "        vertical-align: middle;\n",
       "    }\n",
       "\n",
       "    .dataframe tbody tr th {\n",
       "        vertical-align: top;\n",
       "    }\n",
       "\n",
       "    .dataframe thead th {\n",
       "        text-align: right;\n",
       "    }\n",
       "</style>\n",
       "<table border=\"1\" class=\"dataframe\">\n",
       "  <thead>\n",
       "    <tr style=\"text-align: right;\">\n",
       "      <th></th>\n",
       "      <th>0</th>\n",
       "      <th>1</th>\n",
       "      <th>2</th>\n",
       "      <th>3</th>\n",
       "      <th>4</th>\n",
       "      <th>5</th>\n",
       "      <th>6</th>\n",
       "      <th>7</th>\n",
       "      <th>8</th>\n",
       "      <th>9</th>\n",
       "      <th>...</th>\n",
       "      <th>134</th>\n",
       "      <th>135</th>\n",
       "      <th>136</th>\n",
       "      <th>137</th>\n",
       "      <th>138</th>\n",
       "      <th>139</th>\n",
       "      <th>140</th>\n",
       "      <th>141</th>\n",
       "      <th>142</th>\n",
       "      <th>143</th>\n",
       "    </tr>\n",
       "  </thead>\n",
       "  <tbody>\n",
       "    <tr>\n",
       "      <th>0</th>\n",
       "      <td>-73</td>\n",
       "      <td>-16</td>\n",
       "      <td>4</td>\n",
       "      <td>-31</td>\n",
       "      <td>-33</td>\n",
       "      <td>-37</td>\n",
       "      <td>-18</td>\n",
       "      <td>-26</td>\n",
       "      <td>-40</td>\n",
       "      <td>22</td>\n",
       "      <td>...</td>\n",
       "      <td>274</td>\n",
       "      <td>-96</td>\n",
       "      <td>-96</td>\n",
       "      <td>-124</td>\n",
       "      <td>-201</td>\n",
       "      <td>-196</td>\n",
       "      <td>34</td>\n",
       "      <td>-56</td>\n",
       "      <td>-245</td>\n",
       "      <td>-26</td>\n",
       "    </tr>\n",
       "    <tr>\n",
       "      <th>1</th>\n",
       "      <td>-69</td>\n",
       "      <td>-63</td>\n",
       "      <td>-45</td>\n",
       "      <td>-110</td>\n",
       "      <td>-39</td>\n",
       "      <td>-90</td>\n",
       "      <td>28</td>\n",
       "      <td>-23</td>\n",
       "      <td>-264</td>\n",
       "      <td>-14</td>\n",
       "      <td>...</td>\n",
       "      <td>-915</td>\n",
       "      <td>-221</td>\n",
       "      <td>-458</td>\n",
       "      <td>-664</td>\n",
       "      <td>-259</td>\n",
       "      <td>-369</td>\n",
       "      <td>-81</td>\n",
       "      <td>-818</td>\n",
       "      <td>-235</td>\n",
       "      <td>-1595</td>\n",
       "    </tr>\n",
       "    <tr>\n",
       "      <th>2</th>\n",
       "      <td>-48</td>\n",
       "      <td>-97</td>\n",
       "      <td>-112</td>\n",
       "      <td>-20</td>\n",
       "      <td>-45</td>\n",
       "      <td>-75</td>\n",
       "      <td>10</td>\n",
       "      <td>2</td>\n",
       "      <td>-335</td>\n",
       "      <td>-21</td>\n",
       "      <td>...</td>\n",
       "      <td>-303</td>\n",
       "      <td>-119</td>\n",
       "      <td>-134</td>\n",
       "      <td>-361</td>\n",
       "      <td>22</td>\n",
       "      <td>-263</td>\n",
       "      <td>-146</td>\n",
       "      <td>-1338</td>\n",
       "      <td>-127</td>\n",
       "      <td>-2085</td>\n",
       "    </tr>\n",
       "    <tr>\n",
       "      <th>3</th>\n",
       "      <td>13</td>\n",
       "      <td>-42</td>\n",
       "      <td>-25</td>\n",
       "      <td>-50</td>\n",
       "      <td>14</td>\n",
       "      <td>-46</td>\n",
       "      <td>30</td>\n",
       "      <td>34</td>\n",
       "      <td>18</td>\n",
       "      <td>26</td>\n",
       "      <td>...</td>\n",
       "      <td>29</td>\n",
       "      <td>243</td>\n",
       "      <td>109</td>\n",
       "      <td>21</td>\n",
       "      <td>140</td>\n",
       "      <td>162</td>\n",
       "      <td>-151</td>\n",
       "      <td>-57</td>\n",
       "      <td>197</td>\n",
       "      <td>-334</td>\n",
       "    </tr>\n",
       "    <tr>\n",
       "      <th>4</th>\n",
       "      <td>-86</td>\n",
       "      <td>-91</td>\n",
       "      <td>-85</td>\n",
       "      <td>-115</td>\n",
       "      <td>-56</td>\n",
       "      <td>-45</td>\n",
       "      <td>-56</td>\n",
       "      <td>-54</td>\n",
       "      <td>-163</td>\n",
       "      <td>-42</td>\n",
       "      <td>...</td>\n",
       "      <td>-171</td>\n",
       "      <td>-224</td>\n",
       "      <td>-630</td>\n",
       "      <td>-519</td>\n",
       "      <td>-277</td>\n",
       "      <td>-277</td>\n",
       "      <td>-174</td>\n",
       "      <td>-989</td>\n",
       "      <td>-562</td>\n",
       "      <td>-455</td>\n",
       "    </tr>\n",
       "  </tbody>\n",
       "</table>\n",
       "<p>5 rows × 144 columns</p>\n",
       "</div>"
      ],
      "text/plain": [
       "   0    1    2    3    4    5    6    7    8    9    ...  134  135  136  137  \\\n",
       "0  -73  -16    4  -31  -33  -37  -18  -26  -40   22  ...  274  -96  -96 -124   \n",
       "1  -69  -63  -45 -110  -39  -90   28  -23 -264  -14  ... -915 -221 -458 -664   \n",
       "2  -48  -97 -112  -20  -45  -75   10    2 -335  -21  ... -303 -119 -134 -361   \n",
       "3   13  -42  -25  -50   14  -46   30   34   18   26  ...   29  243  109   21   \n",
       "4  -86  -91  -85 -115  -56  -45  -56  -54 -163  -42  ... -171 -224 -630 -519   \n",
       "\n",
       "   138  139  140   141  142   143  \n",
       "0 -201 -196   34   -56 -245   -26  \n",
       "1 -259 -369  -81  -818 -235 -1595  \n",
       "2   22 -263 -146 -1338 -127 -2085  \n",
       "3  140  162 -151   -57  197  -334  \n",
       "4 -277 -277 -174  -989 -562  -455  \n",
       "\n",
       "[5 rows x 144 columns]"
      ]
     },
     "execution_count": 4,
     "metadata": {},
     "output_type": "execute_result"
    }
   ],
   "source": [
    "x_train.head()"
   ]
  },
  {
   "cell_type": "code",
   "execution_count": 5,
   "id": "5516f1a8",
   "metadata": {
    "execution": {
     "iopub.execute_input": "2023-05-25T07:48:55.526320Z",
     "iopub.status.busy": "2023-05-25T07:48:55.525281Z",
     "iopub.status.idle": "2023-05-25T07:48:55.547490Z",
     "shell.execute_reply": "2023-05-25T07:48:55.546109Z"
    },
    "papermill": {
     "duration": 0.032978,
     "end_time": "2023-05-25T07:48:55.550326",
     "exception": false,
     "start_time": "2023-05-25T07:48:55.517348",
     "status": "completed"
    },
    "tags": []
   },
   "outputs": [
    {
     "data": {
      "text/html": [
       "<div>\n",
       "<style scoped>\n",
       "    .dataframe tbody tr th:only-of-type {\n",
       "        vertical-align: middle;\n",
       "    }\n",
       "\n",
       "    .dataframe tbody tr th {\n",
       "        vertical-align: top;\n",
       "    }\n",
       "\n",
       "    .dataframe thead th {\n",
       "        text-align: right;\n",
       "    }\n",
       "</style>\n",
       "<table border=\"1\" class=\"dataframe\">\n",
       "  <thead>\n",
       "    <tr style=\"text-align: right;\">\n",
       "      <th></th>\n",
       "      <th>0</th>\n",
       "      <th>1</th>\n",
       "      <th>2</th>\n",
       "      <th>3</th>\n",
       "      <th>4</th>\n",
       "      <th>5</th>\n",
       "      <th>6</th>\n",
       "      <th>7</th>\n",
       "      <th>8</th>\n",
       "      <th>9</th>\n",
       "      <th>...</th>\n",
       "      <th>134</th>\n",
       "      <th>135</th>\n",
       "      <th>136</th>\n",
       "      <th>137</th>\n",
       "      <th>138</th>\n",
       "      <th>139</th>\n",
       "      <th>140</th>\n",
       "      <th>141</th>\n",
       "      <th>142</th>\n",
       "      <th>143</th>\n",
       "    </tr>\n",
       "  </thead>\n",
       "  <tbody>\n",
       "    <tr>\n",
       "      <th>0</th>\n",
       "      <td>1</td>\n",
       "      <td>1</td>\n",
       "      <td>1</td>\n",
       "      <td>1</td>\n",
       "      <td>1</td>\n",
       "      <td>1</td>\n",
       "      <td>1</td>\n",
       "      <td>1</td>\n",
       "      <td>2</td>\n",
       "      <td>2</td>\n",
       "      <td>...</td>\n",
       "      <td>14</td>\n",
       "      <td>14</td>\n",
       "      <td>14</td>\n",
       "      <td>14</td>\n",
       "      <td>14</td>\n",
       "      <td>14</td>\n",
       "      <td>14</td>\n",
       "      <td>14</td>\n",
       "      <td>14</td>\n",
       "      <td>14</td>\n",
       "    </tr>\n",
       "  </tbody>\n",
       "</table>\n",
       "<p>1 rows × 144 columns</p>\n",
       "</div>"
      ],
      "text/plain": [
       "   0    1    2    3    4    5    6    7    8    9    ...  134  135  136  137  \\\n",
       "0    1    1    1    1    1    1    1    1    2    2  ...   14   14   14   14   \n",
       "\n",
       "   138  139  140  141  142  143  \n",
       "0   14   14   14   14   14   14  \n",
       "\n",
       "[1 rows x 144 columns]"
      ]
     },
     "execution_count": 5,
     "metadata": {},
     "output_type": "execute_result"
    }
   ],
   "source": [
    "y_train.head()"
   ]
  },
  {
   "cell_type": "code",
   "execution_count": 6,
   "id": "c7d39a94",
   "metadata": {
    "execution": {
     "iopub.execute_input": "2023-05-25T07:48:55.566680Z",
     "iopub.status.busy": "2023-05-25T07:48:55.565922Z",
     "iopub.status.idle": "2023-05-25T07:48:55.576277Z",
     "shell.execute_reply": "2023-05-25T07:48:55.575447Z"
    },
    "papermill": {
     "duration": 0.022717,
     "end_time": "2023-05-25T07:48:55.579734",
     "exception": false,
     "start_time": "2023-05-25T07:48:55.557017",
     "status": "completed"
    },
    "tags": []
   },
   "outputs": [
    {
     "data": {
      "text/plain": [
       "[0, 0]"
      ]
     },
     "execution_count": 6,
     "metadata": {},
     "output_type": "execute_result"
    }
   ],
   "source": [
    "# Check the null values in x_train, y_train\n",
    "[x_train.isnull().sum().sum(),y_train.isnull().sum().sum()]\n"
   ]
  },
  {
   "cell_type": "markdown",
   "id": "d6237a18",
   "metadata": {
    "papermill": {
     "duration": 0.006966,
     "end_time": "2023-05-25T07:48:55.594226",
     "exception": false,
     "start_time": "2023-05-25T07:48:55.587260",
     "status": "completed"
    },
    "tags": []
   },
   "source": [
    " ## Part 2: Cluster analysis <a class=\"anchor\"  id=\"section2\"></a>"
   ]
  },
  {
   "cell_type": "markdown",
   "id": "2ff936e2",
   "metadata": {
    "papermill": {
     "duration": 0.005107,
     "end_time": "2023-05-25T07:48:55.605060",
     "exception": false,
     "start_time": "2023-05-25T07:48:55.599953",
     "status": "completed"
    },
    "tags": []
   },
   "source": [
    "### Start using K-means and then test some other clustering algorithms at your choice <a class=\"anchor\"  id=\"subsection2\"></a>"
   ]
  }
 ],
 "metadata": {
  "kernelspec": {
   "display_name": "Python 3",
   "language": "python",
   "name": "python3"
  },
  "language_info": {
   "codemirror_mode": {
    "name": "ipython",
    "version": 3
   },
   "file_extension": ".py",
   "mimetype": "text/x-python",
   "name": "python",
   "nbconvert_exporter": "python",
   "pygments_lexer": "ipython3",
   "version": "3.10.10"
  },
  "papermill": {
   "default_parameters": {},
   "duration": 16.87437,
   "end_time": "2023-05-25T07:48:56.532306",
   "environment_variables": {},
   "exception": null,
   "input_path": "__notebook__.ipynb",
   "output_path": "__notebook__.ipynb",
   "parameters": {},
   "start_time": "2023-05-25T07:48:39.657936",
   "version": "2.4.0"
  }
 },
 "nbformat": 4,
 "nbformat_minor": 5
}
